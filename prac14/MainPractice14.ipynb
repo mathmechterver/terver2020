{
 "cells": [
  {
   "cell_type": "markdown",
   "metadata": {},
   "source": [
    "# Практика 14. Марков. Начало."
   ]
  },
  {
   "cell_type": "markdown",
   "metadata": {},
   "source": [
    "## Задачи на пару"
   ]
  },
  {
   "cell_type": "markdown",
   "metadata": {},
   "source": [
    "**1.** Пусть $\\xi$ и $\\eta$ — независимые случайные величины, имеющие\n",
    "равномерное распределение в отрезке [0, 1]. Найти:\n",
    "* $E(\\xi|\\xi + \\eta)$\n",
    "* $E(\\xi^2 - \\eta^2 |\\xi + \\eta)$\n",
    "\n",
    "**2.** Пусть случайная величина $\\xi$ имеет стандартное нормальное\n",
    "распределение. Найти $E(\\xi|\\xi^2)$\n",
    "\n",
    "**3.** Пусть случайная величина $\\xi$ имеет показательное распределение \n",
    "с параметром t, а t > 0. Найти:\n",
    "* $E(\\xi| min(\\xi, t))$\n",
    "* $E(\\xi| max(\\xi, t))$\n",
    "\n",
    "**4.** Пусть $\\xi$ - неотрицательная, $E\\xi$ - существует и конечно, $a>0$. Докажите, что\n",
    "$$P(\\xi \\geq a) \\leq \\frac{E\\xi}{a}$$"
   ]
  },
  {
   "cell_type": "markdown",
   "metadata": {},
   "source": [
    "## ДЗ"
   ]
  },
  {
   "cell_type": "markdown",
   "metadata": {},
   "source": [
    "**1.**\n",
    "Найти $E(\\xi|\\eta)$, если совместная плотность случайного вектора\n",
    "$(\\xi, \\eta)$ равна:\n",
    "\t$$\\rho_{\\xi,\\eta}(x,y) =\\left\\{\n",
    "\t\\begin{array}{cc}\n",
    "\t\\frac{1+9x^2y^2}{8}, & -1\\leq x,y\\leq 1\\\\\n",
    "\t0, & otherwise\n",
    "\t\\end{array}\\right.$$\n",
    "    \n",
    "**2.** Пусть $\\xi$ и $\\eta$ — независимые случайные величины, имеющие\n",
    "равномерное распределение в отрезке [0, 1]. Найти:\n",
    "* $E(\\xi - \\eta|\\xi + \\eta)$\n",
    "* $E(\\xi|\\xi + 2\\eta)$\n",
    "\n",
    "**3.** Пусть независимые случайные величины $\\xi$ и $\\eta$ имеют стандартное\n",
    " нормальное распределение. Найти $E(\\xi^2 + \\eta^2 |\\xi + \\eta)$.\n",
    "\n",
    "**4.** Пусть $\\xi_1, \\ldots \\xi_n$ — независимые случайные величины, имеющие\n",
    " равномерное распределение в отрезке $[0, 1]$. Найти:\n",
    "* $E(\\xi_1 | max(\\xi_1, \\ldots \\xi_n))$\n",
    "* $E(\\xi_1 | min(\\xi_1, \\ldots \\xi_n))$\n"
   ]
  }
 ],
 "metadata": {
  "kernelspec": {
   "display_name": "Python 3",
   "language": "python",
   "name": "python3"
  },
  "language_info": {
   "codemirror_mode": {
    "name": "ipython",
    "version": 3
   },
   "file_extension": ".py",
   "mimetype": "text/x-python",
   "name": "python",
   "nbconvert_exporter": "python",
   "pygments_lexer": "ipython3",
   "version": "3.7.3"
  }
 },
 "nbformat": 4,
 "nbformat_minor": 2
}
